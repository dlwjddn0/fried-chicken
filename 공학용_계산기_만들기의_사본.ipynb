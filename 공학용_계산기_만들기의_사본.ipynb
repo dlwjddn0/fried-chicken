{
  "nbformat": 4,
  "nbformat_minor": 0,
  "metadata": {
    "colab": {
      "provenance": [],
      "authorship_tag": "ABX9TyMbzejkRybJHcgcoHYI49O+",
      "include_colab_link": true
    },
    "kernelspec": {
      "name": "python3",
      "display_name": "Python 3"
    },
    "language_info": {
      "name": "python"
    }
  },
  "cells": [
    {
      "cell_type": "markdown",
      "metadata": {
        "id": "view-in-github",
        "colab_type": "text"
      },
      "source": [
        "<a href=\"https://colab.research.google.com/github/dlwjddn0/fried-chicken/blob/main/%EA%B3%B5%ED%95%99%EC%9A%A9_%EA%B3%84%EC%82%B0%EA%B8%B0_%EB%A7%8C%EB%93%A4%EA%B8%B0%EC%9D%98_%EC%82%AC%EB%B3%B8.ipynb\" target=\"_parent\"><img src=\"https://colab.research.google.com/assets/colab-badge.svg\" alt=\"Open In Colab\"/></a>"
      ]
    },
    {
      "cell_type": "markdown",
      "source": [
        "#공학용 계산기 개발의 필요성\n",
        "본 프로젝트는 많은 학생들이 **공학용 계산**을 구매해야하는 문제를 해결하기위해 만들었습니다.예를 들어 $x^6$ 을 개발하는게 어렵습니다."
      ],
      "metadata": {
        "id": "DpEnCeDNE1Ss"
      }
    },
    {
      "cell_type": "markdown",
      "source": [
        "지수값 구하기"
      ],
      "metadata": {
        "id": "-mxRUFAhFimj"
      }
    },
    {
      "cell_type": "code",
      "source": [
        "x6= x*x*x*x*x*x\n",
        "x6\n",
        "if"
      ],
      "metadata": {
        "id": "q-URJwr1JwAy"
      },
      "execution_count": null,
      "outputs": []
    },
    {
      "cell_type": "markdown",
      "source": [
        "#초기값 입력\n",
        "여러분이 원하는 값을  설정해주세요\n"
      ],
      "metadata": {
        "id": "f0VX3YqyIz1Z"
      }
    },
    {
      "cell_type": "code",
      "source": [
        "slider_value=142\n",
        "x=102\n",
        "y=102# @title Example form fields\n",
        "# @markdown Forms support many types of fields.\n",
        "\n",
        "no_type_checking = ''  # @param\n",
        "string_type = 'example'  # @param {type: \"string\"}\n",
        "slider_value = 142  # @param {type: \"slider\", min: 100, max: 200}\n",
        "number = 102  # @param {type: \"number\"}\n",
        "date = '2010-11-05'  # @param {type: \"date\"}\n",
        "pick_me = \"monday\"  # @param ['monday', 'tuesday', 'wednesday', 'thursday']\n",
        "select_or_input = \"apples\" # @param [\"apples\", \"bananas\", \"oranges\"] {allow-input: true}\n",
        "# @markdown ---\n"
      ],
      "metadata": {
        "id": "uY5kFboFJPU5"
      },
      "execution_count": null,
      "outputs": []
    }
  ]
}